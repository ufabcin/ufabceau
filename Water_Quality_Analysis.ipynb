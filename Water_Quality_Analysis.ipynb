import numpy as np 
import pandas as pd 
import matplotlib.pyplot as plt
plt.style.use('fivethirtyeight')
plt.style.use('dark_background')
import seaborn as sns
color = sns.color_palette()
import plotly.express          as ex
import plotly.graph_objs       as go
import plotly.offline          as pyo
import scipy.stats             as stats
import pymc3                   as pm
import theano.tensor           as tt
from matplotlib.colors import ListedColormap
from scipy.stats import norm, boxcox
from sklearn.metrics import confusion_matrix, classification_report, accuracy_score
from collections import Counter
from scipy import stats
from tqdm import tqdm_notebook

from sklearn import metrics
from sklearn.preprocessing import StandardScaler
from sklearn.metrics import mean_squared_error, mean_absolute_error, confusion_matrix, r2_score, accuracy_score
from sklearn.model_selection import (GridSearchCV, KFold, train_test_split, cross_val_score)

from imblearn.over_sampling import SMOTE
from collections import Counter

from sklearn.linear_model import LogisticRegression
from sklearn.naive_bayes import GaussianNB
from sklearn.ensemble import RandomForestClassifier, ExtraTreesClassifier
from sklearn import svm
from xgboost.sklearn import XGBClassifier
from sklearn.tree import DecisionTreeClassifier
# from catboost import CatBoostClassifier

path = "water.csv"
df = pd.read_csv(path)

# Initial Analysis
# PARAMETRO DE QUALIDADE DE AGUA (pH, cond, turbidez, temp, nitro, fosforo e solido) E ANALISE DE PFAS
df.shape
(3276, 10)
df.info()
<class 'pandas.core.frame.DataFrame'>
RangeIndex: 3276 entries, 0 to 3275
Data columns (total 10 columns):
 #   Column           Non-Null Count  Dtype  
---  ------           --------------  -----  
 0   ph               2785 non-null   float64
 1   Solids           3276 non-null   float64
 2   Conductivity     3276 non-null   float64
 3   Turbidity        3276 non-null   float64
 4   Temperature      3276 non-null   float64
 5   Nitrogenio       3276 non-null   float64
 6   Phosphorus       3276 non-null   float64
 7   Name             3276 non-null   String
 8   Coordinate       3276 non-null   String

#Importar arquivo ref a qualidade de solo: granulometria, carbono, nitrogenio, teor de materia organica
path = "soil.csv"
df = pd.read_csv(path)

df.shape
(3276, 10)
df.info()
<class 'pandas.core.frame.DataFrame'>
RangeIndex: 3276 entries, 0 to 3275
Data columns (total 10 columns):
 #   Column           Non-Null Count  Dtype  
---  ------           --------------  -----  
 0   Name             3276 non-null   String
 1   Coordinate       3276 non-null   String
 2   Granulometria    3276 non-null   float64
 3   Carbono          3276 non-null   float64
 4   Nitrogenio       3276 non-null   float64
 5   Teor Materia Org 3276 non-null   float64

#dtypes: float64(9), String(1)
#memory usage: 256.1 KB

From the above table, we can see that the count of each feature are not same. so there must me some null values. Feature Solids has the high mean and standard deviation comparted to other feature. so the distribution must be high. However, the above description is for overall population. lets try the same for 2 samples based on Portability feature

df[df['water']==1].describe().T.style.background_gradient(subset=['mean','std','50%','count'], cmap='PuBu')


#Check for missing values
plt.title('Missing Values Per Feature')
nans = df.isna().sum().sort_values(ascending=False).to_frame()
sns.heatmap(nans,annot=True,fmt='d',cmap='vlag')

#Exploratory Data Analysis
Corrmat = df.corr()
plt.subplots(figsize=(7,7))
sns.heatmap(Corrmat, cmap="YlGnBu", square = True, annot=True, fmt='.2f')
plt.show()



